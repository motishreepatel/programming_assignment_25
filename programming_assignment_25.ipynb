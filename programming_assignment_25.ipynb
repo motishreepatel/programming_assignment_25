{
 "cells": [
  {
   "cell_type": "code",
   "execution_count": 1,
   "metadata": {},
   "outputs": [
    {
     "name": "stdout",
     "output_type": "stream",
     "text": [
      "2\n",
      "3\n",
      "0\n"
     ]
    }
   ],
   "source": [
    "#Q - Question1\n",
    "#Create a function that takes three integer arguments (a, b, c) and returns the amount of integers which are of equal value.\n",
    "#Answer:\n",
    "def count_equal_integers(a, b, c):\n",
    "    count = 0\n",
    "    if a == b == c:\n",
    "        count = 3\n",
    "    elif a == b or a == c or b == c:\n",
    "        count = 2\n",
    "    return count\n",
    "\n",
    "result1 = count_equal_integers(3,4,3)\n",
    "print(result1)  \n",
    "\n",
    "result2 = count_equal_integers(1,1,1)\n",
    "print(result2)  \n",
    "\n",
    "result3 = count_equal_integers(3,4,1)\n",
    "print(result3)  \n"
   ]
  },
  {
   "cell_type": "code",
   "execution_count": 2,
   "metadata": {},
   "outputs": [
    {
     "name": "stdout",
     "output_type": "stream",
     "text": [
      "[('D', 1), ('B', 2), ('C', 3)]\n"
     ]
    }
   ],
   "source": [
    "#Q - Question2\n",
    "#Write a function that converts a dictionary into a list of keys-values tuples.\n",
    "#Answer:\n",
    "def convert_dict_to_tuples(dictionary):\n",
    "    tuples_list = list(dictionary.items())\n",
    "    return tuples_list\n",
    "\n",
    "my_dict = {'D': 1, 'B': 2, 'C': 3}\n",
    "result = convert_dict_to_tuples(my_dict)\n",
    "print(result)\n"
   ]
  },
  {
   "cell_type": "code",
   "execution_count": 3,
   "metadata": {},
   "outputs": [
    {
     "name": "stdout",
     "output_type": "stream",
     "text": [
      "{'a': 'A', 'b': 'B', 'c': 'C', 'd': 'D', 'e': 'E', 'f': 'F', 'g': 'G', 'h': 'H', 'i': 'I', 'j': 'J', 'k': 'K', 'l': 'L', 'm': 'M', 'n': 'N', 'o': 'O', 'p': 'P', 'q': 'Q', 'r': 'R', 's': 'S', 't': 'T', 'u': 'U', 'v': 'V', 'w': 'W', 'x': 'X', 'y': 'Y', 'z': 'Z'}\n"
     ]
    }
   ],
   "source": [
    "#Q - Question3\n",
    "'''Write a function that creates a dictionary with each (key, value) pair being the (lower case,\n",
    "upper case) versions of a letter, respectively.'''  \n",
    "#Answer:\n",
    "def create_letter_dictionary():\n",
    "    letter_dict = {}\n",
    "    for letter in range(ord('a'), ord('z')+1):\n",
    "        lowercase = chr(letter)\n",
    "        uppercase = chr(letter).upper()\n",
    "        letter_dict[lowercase] = uppercase\n",
    "    return letter_dict\n",
    "    \n",
    "result = create_letter_dictionary()\n",
    "print(result)\n"
   ]
  },
  {
   "cell_type": "code",
   "execution_count": 4,
   "metadata": {},
   "outputs": [
    {
     "name": "stdout",
     "output_type": "stream",
     "text": [
      "upplus und bununus\n"
     ]
    }
   ],
   "source": [
    "#Q - Question4\n",
    "#Write a function, that replaces all vowels in a string with a specified vowel.\n",
    "#Answer:\n",
    "def replace_vowels(string, new_vowel):\n",
    "    vowels = 'aeiouAEIOU'\n",
    "    replaced_string = ''\n",
    "    for char in string:\n",
    "        if char in vowels:\n",
    "            replaced_string += new_vowel\n",
    "        else:\n",
    "            replaced_string += char\n",
    "    return replaced_string\n",
    "\n",
    "input_string = \"apples and bananas\"\n",
    "new_vowel = \"u\"\n",
    "result = replace_vowels(input_string, new_vowel)\n",
    "print(result)\n"
   ]
  },
  {
   "cell_type": "code",
   "execution_count": 5,
   "metadata": {},
   "outputs": [
    {
     "name": "stdout",
     "output_type": "stream",
     "text": [
      "THe LiTTLe meRmaiD\n"
     ]
    }
   ],
   "source": [
    "#Q - Question5\n",
    "'''Create a function that takes a string as input and capitalizes a letter if its ASCII code is even\n",
    "and returns its lower case version if its ASCII code is odd.'''  \n",
    "#Answer:\n",
    "def modify_string(string):\n",
    "    modified_string = \"\"\n",
    "    for char in string:\n",
    "        ascii_code = ord(char)\n",
    "        if ascii_code % 2 == 0:\n",
    "            modified_string += char.upper()\n",
    "        else:\n",
    "            modified_string += char.lower()\n",
    "    return modified_string\n",
    "\n",
    "input_string = \"THE LITTLE MERMAID\"\n",
    "result = modify_string(input_string)\n",
    "print(result)\n"
   ]
  },
  {
   "cell_type": "code",
   "execution_count": null,
   "metadata": {},
   "outputs": [],
   "source": []
  }
 ],
 "metadata": {
  "kernelspec": {
   "display_name": "Python 3.9.6 64-bit",
   "language": "python",
   "name": "python3"
  },
  "language_info": {
   "codemirror_mode": {
    "name": "ipython",
    "version": 3
   },
   "file_extension": ".py",
   "mimetype": "text/x-python",
   "name": "python",
   "nbconvert_exporter": "python",
   "pygments_lexer": "ipython3",
   "version": "3.9.6"
  },
  "orig_nbformat": 4,
  "vscode": {
   "interpreter": {
    "hash": "31f2aee4e71d21fbe5cf8b01ff0e069b9275f58929596ceb00d14d90e3e16cd6"
   }
  }
 },
 "nbformat": 4,
 "nbformat_minor": 2
}
